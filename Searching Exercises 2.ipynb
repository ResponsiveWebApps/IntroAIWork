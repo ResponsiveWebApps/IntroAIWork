# Depth Firsth Search
# visited = set()
def dfs(visited, graph, node):
    if node not in visited:
      print (node),
      visited.add(node)
      for neighbour in graph[node]:
          dfs(visited, graph, neighbour)
            
# Breadth Search First
# visited = []
queue = []

def bfs(visited, graph, node):
  visited.append(node)
  queue.append(node)

  while queue:
    print (queue)
    s = queue.pop(0)
    print (s, end = " ")

    for neighbour in graph[s]:
      if neighbour not in visited:
        visited.append(neighbour)
        queue.append(neighbour)
   
# Exercise 1
graph1 = {
    1 : [4, 2, 9, 3],
    2 : [4, 8, 9],
    3 : [4, 5, 6, 7],
    4 : [6, 7],
    5 : [],
    6 : [8],
    7 : [],
    8 : [],
    9 : []
}

print("Depth First search")
visited = set()
dfs(visited, graph1, 1)

print("Breadth First search")
visited = []
bfs(visited, graph1, 1)
